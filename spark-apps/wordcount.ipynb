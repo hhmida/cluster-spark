{
 "metadata": {
  "language_info": {
   "codemirror_mode": {
    "name": "ipython",
    "version": 3
   },
   "file_extension": ".py",
   "mimetype": "text/x-python",
   "name": "python",
   "nbconvert_exporter": "python",
   "pygments_lexer": "ipython3",
   "version": "3.7.6"
  },
  "orig_nbformat": 2,
  "kernelspec": {
   "name": "python376jvsc74a57bd061ff86f8105fbc2516ba547b2bae7309d5131914e0c27af71f64a321f625df91",
   "display_name": "Python 3.7.6 64-bit ('base': conda)"
  }
 },
 "nbformat": 4,
 "nbformat_minor": 2,
 "cells": [
  {
   "source": [
    "Le shell pyspark crée automatiquement un contexte spark dans la variable sc"
   ],
   "cell_type": "markdown",
   "metadata": {}
  },
  {
   "source": [
    "## Lecture du fichier dans un RDD"
   ],
   "cell_type": "markdown",
   "metadata": {}
  },
  {
   "cell_type": "code",
   "execution_count": null,
   "metadata": {},
   "outputs": [],
   "source": [
    "texte = sc.textFile('shakespeare.txt')"
   ]
  },
  {
   "source": [
    "## Découper les lignes en mots \n",
    "`flatMap` est utilisée pour que les listes relatives à chaque ligne soient éclatées. "
   ],
   "cell_type": "markdown",
   "metadata": {}
  },
  {
   "cell_type": "code",
   "execution_count": null,
   "metadata": {},
   "outputs": [],
   "source": [
    "counts = texte.flatMap(lambda line: line.split())"
   ]
  },
  {
   "source": [
    "## Créer les paires clé,valeur comme l'exemple Map Reduce"
   ],
   "cell_type": "markdown",
   "metadata": {}
  },
  {
   "cell_type": "code",
   "execution_count": null,
   "metadata": {},
   "outputs": [],
   "source": [
    "counts = counts.map(lambda w:(w,1))"
   ]
  },
  {
   "source": [
    "## Calculer le nombre d'occurences\n",
    "En additionnant les 1 relatives à chaque w"
   ],
   "cell_type": "markdown",
   "metadata": {}
  },
  {
   "cell_type": "code",
   "execution_count": null,
   "metadata": {},
   "outputs": [],
   "source": [
    "counts = counts.reduceByKey(lambda a, b: a+b)"
   ]
  },
  {
   "source": [
    "## Enregistrer sur HDFS (dans un dossier)"
   ],
   "cell_type": "markdown",
   "metadata": {}
  },
  {
   "cell_type": "code",
   "execution_count": null,
   "metadata": {},
   "outputs": [],
   "source": [
    "counts.saveAsTextFile('resultat')"
   ]
  }
 ]
}